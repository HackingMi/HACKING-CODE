{
  "cells": [
    {
      "cell_type": "markdown",
      "metadata": {
        "id": "view-in-github",
        "colab_type": "text"
      },
      "source": [
        "<a href=\"https://colab.research.google.com/github/HackingMi/HACKING-CODE/blob/main/Copia_de_Te_damos_la_bienvenida_a_Colaboratory.ipynb\" target=\"_parent\"><img src=\"https://colab.research.google.com/assets/colab-badge.svg\" alt=\"Open In Colab\"/></a>"
      ]
    },
    {
      "cell_type": "markdown",
      "source": [
        "**PRACTICAS DE PYTHON JULIO 2023**"
      ],
      "metadata": {
        "id": "JCOlAWBhtR6X"
      }
    },
    {
      "cell_type": "markdown",
      "source": [
        "*Imprime el texto \"Hola, mundo!\"*"
      ],
      "metadata": {
        "id": "VyKjUu0yU2s8"
      }
    },
    {
      "cell_type": "code",
      "source": [
        "print(\"Hola, Mundo!\")"
      ],
      "metadata": {
        "id": "o_LpfKeLtjPl",
        "outputId": "5dfc2591-4fed-419b-8b8a-7b5e5b845c13",
        "colab": {
          "base_uri": "https://localhost:8080/"
        }
      },
      "execution_count": null,
      "outputs": [
        {
          "output_type": "stream",
          "name": "stdout",
          "text": [
            "Hola, Mundo!\n"
          ]
        }
      ]
    },
    {
      "cell_type": "markdown",
      "source": [
        "*Pide al usuario su nombre y saluda al usuario por su nombre.*"
      ],
      "metadata": {
        "id": "CvvkEv9yVAgN"
      }
    },
    {
      "cell_type": "code",
      "source": [
        "nombre = input(\"Ingrese su Nombre: \")\n",
        "print(f\"Buenas noches {nombre}\")\n",
        "apellido = input(\"Ingrese su Apellido: \")\n",
        "print(\"Buenas noches {}\".format(apellido))"
      ],
      "metadata": {
        "id": "Jw5LR-Q1t9zP",
        "outputId": "0d83fd39-ae07-45ac-ee99-04cc8e6037dc",
        "colab": {
          "base_uri": "https://localhost:8080/"
        }
      },
      "execution_count": null,
      "outputs": [
        {
          "output_type": "stream",
          "name": "stdout",
          "text": [
            "Ingrese su Nombre: Senati\n",
            "Buenas noches Senati\n",
            "Ingrese su Apellido: Ruiz\n",
            "Buenas noches Ruiz\n"
          ]
        }
      ]
    },
    {
      "cell_type": "markdown",
      "source": [
        "*Crea una lista de los números del 1 al 10 y luego imprime la lista.*"
      ],
      "metadata": {
        "id": "Kk-sEX0qUi-l"
      }
    },
    {
      "cell_type": "code",
      "source": [
        "lista = [1, 2, 3, 4, 5, 6, 7, 8, 9, 10]\n",
        "print(lista)"
      ],
      "metadata": {
        "id": "-vyXE34dzBZo",
        "outputId": "476a5bd7-a13a-4797-cee5-9843cea587af",
        "colab": {
          "base_uri": "https://localhost:8080/"
        }
      },
      "execution_count": null,
      "outputs": [
        {
          "output_type": "stream",
          "name": "stdout",
          "text": [
            "[1, 2, 3, 4, 5, 6, 7, 8, 9, 10]\n"
          ]
        }
      ]
    },
    {
      "cell_type": "markdown",
      "source": [
        "*Crea un bucle que imprima los números del 1 al 10.*"
      ],
      "metadata": {
        "id": "HwMvrFBCVJq8"
      }
    },
    {
      "cell_type": "code",
      "source": [
        "#for i in range(1, 11):\n",
        "#    print(i)\n",
        "for i in range(1, 11):\n",
        "    print(i, end=\" \")"
      ],
      "metadata": {
        "id": "P0NrV4UWJ1mH",
        "outputId": "d9ef6522-9ca8-4f60-ab7d-9b1768957e51",
        "colab": {
          "base_uri": "https://localhost:8080/"
        }
      },
      "execution_count": null,
      "outputs": [
        {
          "output_type": "stream",
          "name": "stdout",
          "text": [
            "1 2 3 4 5 6 7 8 9 10 "
          ]
        }
      ]
    },
    {
      "cell_type": "markdown",
      "source": [
        "*Crea una función que tome dos números como entrada y devuelva su suma.*"
      ],
      "metadata": {
        "id": "j3H33bC1VXy0"
      }
    },
    {
      "cell_type": "code",
      "source": [
        "def suma_numeros(a, b):\n",
        "  suma = a + b\n",
        "  return suma"
      ],
      "metadata": {
        "id": "aikllL6vMTjL"
      },
      "execution_count": null,
      "outputs": []
    },
    {
      "cell_type": "code",
      "source": [
        "resultado = suma_numeros(10, 7)\n",
        "print(resultado)"
      ],
      "metadata": {
        "id": "7gwwVJQdUXOS",
        "outputId": "22f8932a-3de2-481f-fa46-a70a46495a4f",
        "colab": {
          "base_uri": "https://localhost:8080/"
        }
      },
      "execution_count": null,
      "outputs": [
        {
          "output_type": "stream",
          "name": "stdout",
          "text": [
            "17\n"
          ]
        }
      ]
    },
    {
      "cell_type": "markdown",
      "source": [
        "*Crea una clase llamada Persona que tenga propiedades para el nombre, la edad y el género de una persona.*"
      ],
      "metadata": {
        "id": "e08CXL22VzTl"
      }
    },
    {
      "cell_type": "code",
      "source": [
        "class Persona:\n",
        "  def __init__(self, nombre, edad, genero):\n",
        "     self.nombre = nombre\n",
        "     self.edad = edad\n",
        "     self.genero = genero\n",
        "\n",
        "persona1 = Persona(\"Senati\", 65, \"Indenpendencia\")\n",
        "print(persona1.nombre)\n",
        "print(persona1.edad)\n",
        "print(persona1.genero)"
      ],
      "metadata": {
        "id": "lkn4zij9V1Nj",
        "outputId": "28f78233-9d74-4372-8c9c-941ba421820b",
        "colab": {
          "base_uri": "https://localhost:8080/"
        }
      },
      "execution_count": null,
      "outputs": [
        {
          "output_type": "stream",
          "name": "stdout",
          "text": [
            "Senati\n",
            "65\n",
            "Indenpendencia\n"
          ]
        }
      ]
    }
  ],
  "metadata": {
    "colab": {
      "provenance": [],
      "include_colab_link": true
    },
    "kernelspec": {
      "display_name": "Python 3",
      "name": "python3"
    }
  },
  "nbformat": 4,
  "nbformat_minor": 0
}